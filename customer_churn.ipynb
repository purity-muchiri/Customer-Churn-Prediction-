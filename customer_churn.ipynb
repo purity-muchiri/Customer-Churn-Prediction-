{
 "cells": [
  {
   "cell_type": "markdown",
   "id": "6fa13d7e-ac3f-40ff-b2f4-037a582c137d",
   "metadata": {},
   "source": [
    "#  Customer Churn Prediction\n",
    "\n",
    "This project aims to build a machine learning model that can predict whether a customer will churn (i.e., leave the company). Churn prediction helps businesses retain customers by identifying those at risk and taking proactive action.\n"
   ]
  },
  {
   "cell_type": "markdown",
   "id": "816bd2d8-aa48-415d-b331-6ef1341db662",
   "metadata": {},
   "source": [
    "## Business Goal\n",
    "\n",
    "The goal is to reduce customer churn by identifying customers who are likely to leave. Retaining an existing customer is significantly cheaper than acquiring a new one. \n",
    "\n",
    "By accurately predicting churn, the company can:\n",
    "- Offer targeted promotions or services\n",
    "- Improve customer satisfaction\n",
    "- Increase customer retention rates\n",
    "- Boost overall profitability\n"
   ]
  },
  {
   "cell_type": "markdown",
   "id": "9d6a9ac7-a6a4-44df-ba66-f964c3b4e681",
   "metadata": {},
   "source": [
    "## Problem Statement\n",
    "\n",
    "We are provided with customer data from a telecom company. The task is to:\n",
    "- Analyze the data\n",
    "- Engineer meaningful features\n",
    "- Train a machine learning model\n",
    "- Predict which customers are likely to churn\n",
    "\n",
    "Our **target variable** is: `Churn` (Yes/No)\n"
   ]
  },
  {
   "cell_type": "markdown",
   "id": "3bf5ebb6-b26f-4b55-864e-0acc9359484f",
   "metadata": {},
   "source": [
    "## Dataset Overview\n",
    "\n",
    "The dataset contains the following types of features:\n",
    "- **Customer demographics**: gender, senior citizen status, etc.\n",
    "- **Account information**: contract type, payment method, monthly charges\n",
    "- **Services subscribed**: phone, internet, tech support, etc.\n",
    "- **Target variable**: whether the customer has churned\n",
    "\n",
    "We'll begin by exploring and preprocessing these features to prepare them for modeling.\n"
   ]
  },
  {
   "cell_type": "markdown",
   "id": "c26aa99a-2a2b-47a9-8b7c-218945f515cd",
   "metadata": {},
   "source": [
    "## Importing Required Libraries\n",
    "\n",
    "We start by importing all necessary libraries for data analysis, visualization, preprocessing, and machine learning.\n"
   ]
  },
  {
   "cell_type": "code",
   "execution_count": 112,
   "id": "f7f18442-88b2-491e-9166-371a537933f1",
   "metadata": {},
   "outputs": [],
   "source": [
    "# Data handling and manipulation\n",
    "import pandas as pd\n",
    "import numpy as np\n",
    "\n",
    "# Visualization libraries\n",
    "import seaborn as sns\n",
    "import matplotlib.pyplot as plt\n",
    "\n",
    "# Preprocessing and model training\n",
    "\n",
    "# For splitting data into training and test sets\n",
    "from sklearn.model_selection import train_test_split  \n",
    "\n",
    "# For feature scaling and encoding categorical data\n",
    "from sklearn.preprocessing import StandardScaler, LabelEncoder  \n",
    "\n",
    "# Evaluation metrics\n",
    "from sklearn.metrics import accuracy_score, classification_report, confusion_matrix\n",
    "\n",
    "# Machine learning model\n",
    "from sklearn.linear_model import LogisticRegression         \n"
   ]
  },
  {
   "cell_type": "markdown",
   "id": "35ed9891-9408-49ad-a314-87d48d042861",
   "metadata": {},
   "source": [
    "## Loading the Dataset\n",
    "\n",
    "We load the Telco Customer Churn dataset using `pandas`. This dataset contains customer details, services they use, and whether or not they have churned (i.e., stopped using the service).\n"
   ]
  },
  {
   "cell_type": "code",
   "execution_count": 114,
   "id": "a7b036d8-6d7d-49e2-834c-b44d665c9e9b",
   "metadata": {},
   "outputs": [
    {
     "data": {
      "text/html": [
       "<div>\n",
       "<style scoped>\n",
       "    .dataframe tbody tr th:only-of-type {\n",
       "        vertical-align: middle;\n",
       "    }\n",
       "\n",
       "    .dataframe tbody tr th {\n",
       "        vertical-align: top;\n",
       "    }\n",
       "\n",
       "    .dataframe thead th {\n",
       "        text-align: right;\n",
       "    }\n",
       "</style>\n",
       "<table border=\"1\" class=\"dataframe\">\n",
       "  <thead>\n",
       "    <tr style=\"text-align: right;\">\n",
       "      <th></th>\n",
       "      <th>customerID</th>\n",
       "      <th>gender</th>\n",
       "      <th>SeniorCitizen</th>\n",
       "      <th>Partner</th>\n",
       "      <th>Dependents</th>\n",
       "      <th>tenure</th>\n",
       "      <th>PhoneService</th>\n",
       "      <th>MultipleLines</th>\n",
       "      <th>InternetService</th>\n",
       "      <th>OnlineSecurity</th>\n",
       "      <th>...</th>\n",
       "      <th>DeviceProtection</th>\n",
       "      <th>TechSupport</th>\n",
       "      <th>StreamingTV</th>\n",
       "      <th>StreamingMovies</th>\n",
       "      <th>Contract</th>\n",
       "      <th>PaperlessBilling</th>\n",
       "      <th>PaymentMethod</th>\n",
       "      <th>MonthlyCharges</th>\n",
       "      <th>TotalCharges</th>\n",
       "      <th>Churn</th>\n",
       "    </tr>\n",
       "  </thead>\n",
       "  <tbody>\n",
       "    <tr>\n",
       "      <th>0</th>\n",
       "      <td>7590-VHVEG</td>\n",
       "      <td>Female</td>\n",
       "      <td>0</td>\n",
       "      <td>Yes</td>\n",
       "      <td>No</td>\n",
       "      <td>1</td>\n",
       "      <td>No</td>\n",
       "      <td>No phone service</td>\n",
       "      <td>DSL</td>\n",
       "      <td>No</td>\n",
       "      <td>...</td>\n",
       "      <td>No</td>\n",
       "      <td>No</td>\n",
       "      <td>No</td>\n",
       "      <td>No</td>\n",
       "      <td>Month-to-month</td>\n",
       "      <td>Yes</td>\n",
       "      <td>Electronic check</td>\n",
       "      <td>29.85</td>\n",
       "      <td>29.85</td>\n",
       "      <td>No</td>\n",
       "    </tr>\n",
       "    <tr>\n",
       "      <th>1</th>\n",
       "      <td>5575-GNVDE</td>\n",
       "      <td>Male</td>\n",
       "      <td>0</td>\n",
       "      <td>No</td>\n",
       "      <td>No</td>\n",
       "      <td>34</td>\n",
       "      <td>Yes</td>\n",
       "      <td>No</td>\n",
       "      <td>DSL</td>\n",
       "      <td>Yes</td>\n",
       "      <td>...</td>\n",
       "      <td>Yes</td>\n",
       "      <td>No</td>\n",
       "      <td>No</td>\n",
       "      <td>No</td>\n",
       "      <td>One year</td>\n",
       "      <td>No</td>\n",
       "      <td>Mailed check</td>\n",
       "      <td>56.95</td>\n",
       "      <td>1889.5</td>\n",
       "      <td>No</td>\n",
       "    </tr>\n",
       "    <tr>\n",
       "      <th>2</th>\n",
       "      <td>3668-QPYBK</td>\n",
       "      <td>Male</td>\n",
       "      <td>0</td>\n",
       "      <td>No</td>\n",
       "      <td>No</td>\n",
       "      <td>2</td>\n",
       "      <td>Yes</td>\n",
       "      <td>No</td>\n",
       "      <td>DSL</td>\n",
       "      <td>Yes</td>\n",
       "      <td>...</td>\n",
       "      <td>No</td>\n",
       "      <td>No</td>\n",
       "      <td>No</td>\n",
       "      <td>No</td>\n",
       "      <td>Month-to-month</td>\n",
       "      <td>Yes</td>\n",
       "      <td>Mailed check</td>\n",
       "      <td>53.85</td>\n",
       "      <td>108.15</td>\n",
       "      <td>Yes</td>\n",
       "    </tr>\n",
       "    <tr>\n",
       "      <th>3</th>\n",
       "      <td>7795-CFOCW</td>\n",
       "      <td>Male</td>\n",
       "      <td>0</td>\n",
       "      <td>No</td>\n",
       "      <td>No</td>\n",
       "      <td>45</td>\n",
       "      <td>No</td>\n",
       "      <td>No phone service</td>\n",
       "      <td>DSL</td>\n",
       "      <td>Yes</td>\n",
       "      <td>...</td>\n",
       "      <td>Yes</td>\n",
       "      <td>Yes</td>\n",
       "      <td>No</td>\n",
       "      <td>No</td>\n",
       "      <td>One year</td>\n",
       "      <td>No</td>\n",
       "      <td>Bank transfer (automatic)</td>\n",
       "      <td>42.30</td>\n",
       "      <td>1840.75</td>\n",
       "      <td>No</td>\n",
       "    </tr>\n",
       "    <tr>\n",
       "      <th>4</th>\n",
       "      <td>9237-HQITU</td>\n",
       "      <td>Female</td>\n",
       "      <td>0</td>\n",
       "      <td>No</td>\n",
       "      <td>No</td>\n",
       "      <td>2</td>\n",
       "      <td>Yes</td>\n",
       "      <td>No</td>\n",
       "      <td>Fiber optic</td>\n",
       "      <td>No</td>\n",
       "      <td>...</td>\n",
       "      <td>No</td>\n",
       "      <td>No</td>\n",
       "      <td>No</td>\n",
       "      <td>No</td>\n",
       "      <td>Month-to-month</td>\n",
       "      <td>Yes</td>\n",
       "      <td>Electronic check</td>\n",
       "      <td>70.70</td>\n",
       "      <td>151.65</td>\n",
       "      <td>Yes</td>\n",
       "    </tr>\n",
       "  </tbody>\n",
       "</table>\n",
       "<p>5 rows × 21 columns</p>\n",
       "</div>"
      ],
      "text/plain": [
       "   customerID  gender  SeniorCitizen Partner Dependents  tenure PhoneService  \\\n",
       "0  7590-VHVEG  Female              0     Yes         No       1           No   \n",
       "1  5575-GNVDE    Male              0      No         No      34          Yes   \n",
       "2  3668-QPYBK    Male              0      No         No       2          Yes   \n",
       "3  7795-CFOCW    Male              0      No         No      45           No   \n",
       "4  9237-HQITU  Female              0      No         No       2          Yes   \n",
       "\n",
       "      MultipleLines InternetService OnlineSecurity  ... DeviceProtection  \\\n",
       "0  No phone service             DSL             No  ...               No   \n",
       "1                No             DSL            Yes  ...              Yes   \n",
       "2                No             DSL            Yes  ...               No   \n",
       "3  No phone service             DSL            Yes  ...              Yes   \n",
       "4                No     Fiber optic             No  ...               No   \n",
       "\n",
       "  TechSupport StreamingTV StreamingMovies        Contract PaperlessBilling  \\\n",
       "0          No          No              No  Month-to-month              Yes   \n",
       "1          No          No              No        One year               No   \n",
       "2          No          No              No  Month-to-month              Yes   \n",
       "3         Yes          No              No        One year               No   \n",
       "4          No          No              No  Month-to-month              Yes   \n",
       "\n",
       "               PaymentMethod MonthlyCharges  TotalCharges Churn  \n",
       "0           Electronic check          29.85         29.85    No  \n",
       "1               Mailed check          56.95        1889.5    No  \n",
       "2               Mailed check          53.85        108.15   Yes  \n",
       "3  Bank transfer (automatic)          42.30       1840.75    No  \n",
       "4           Electronic check          70.70        151.65   Yes  \n",
       "\n",
       "[5 rows x 21 columns]"
      ]
     },
     "execution_count": 114,
     "metadata": {},
     "output_type": "execute_result"
    }
   ],
   "source": [
    "# Load the dataset from a CSV file\n",
    "df = pd.read_csv(\"WA_Fn-UseC_-Telco-Customer-Churn.csv\")\n",
    "\n",
    "# Display the first 5 rows of the dataset to get an overview\n",
    "df.head(5)\n"
   ]
  },
  {
   "cell_type": "markdown",
   "id": "8f866861-42ba-4451-b560-1d2e6eadf753",
   "metadata": {},
   "source": [
    "## Summary Statistics\n",
    "\n",
    "We use `df.describe()` to generate descriptive statistics for the numerical columns in the dataset. This helps us understand the central tendencies, spread, and presence of outliers.\n"
   ]
  },
  {
   "cell_type": "code",
   "execution_count": 116,
   "id": "301e8d6b-dd67-4ec7-b185-d40cf143dd0c",
   "metadata": {},
   "outputs": [
    {
     "data": {
      "text/html": [
       "<div>\n",
       "<style scoped>\n",
       "    .dataframe tbody tr th:only-of-type {\n",
       "        vertical-align: middle;\n",
       "    }\n",
       "\n",
       "    .dataframe tbody tr th {\n",
       "        vertical-align: top;\n",
       "    }\n",
       "\n",
       "    .dataframe thead th {\n",
       "        text-align: right;\n",
       "    }\n",
       "</style>\n",
       "<table border=\"1\" class=\"dataframe\">\n",
       "  <thead>\n",
       "    <tr style=\"text-align: right;\">\n",
       "      <th></th>\n",
       "      <th>SeniorCitizen</th>\n",
       "      <th>tenure</th>\n",
       "      <th>MonthlyCharges</th>\n",
       "    </tr>\n",
       "  </thead>\n",
       "  <tbody>\n",
       "    <tr>\n",
       "      <th>count</th>\n",
       "      <td>7043.000000</td>\n",
       "      <td>7043.000000</td>\n",
       "      <td>7043.000000</td>\n",
       "    </tr>\n",
       "    <tr>\n",
       "      <th>mean</th>\n",
       "      <td>0.162147</td>\n",
       "      <td>32.371149</td>\n",
       "      <td>64.761692</td>\n",
       "    </tr>\n",
       "    <tr>\n",
       "      <th>std</th>\n",
       "      <td>0.368612</td>\n",
       "      <td>24.559481</td>\n",
       "      <td>30.090047</td>\n",
       "    </tr>\n",
       "    <tr>\n",
       "      <th>min</th>\n",
       "      <td>0.000000</td>\n",
       "      <td>0.000000</td>\n",
       "      <td>18.250000</td>\n",
       "    </tr>\n",
       "    <tr>\n",
       "      <th>25%</th>\n",
       "      <td>0.000000</td>\n",
       "      <td>9.000000</td>\n",
       "      <td>35.500000</td>\n",
       "    </tr>\n",
       "    <tr>\n",
       "      <th>50%</th>\n",
       "      <td>0.000000</td>\n",
       "      <td>29.000000</td>\n",
       "      <td>70.350000</td>\n",
       "    </tr>\n",
       "    <tr>\n",
       "      <th>75%</th>\n",
       "      <td>0.000000</td>\n",
       "      <td>55.000000</td>\n",
       "      <td>89.850000</td>\n",
       "    </tr>\n",
       "    <tr>\n",
       "      <th>max</th>\n",
       "      <td>1.000000</td>\n",
       "      <td>72.000000</td>\n",
       "      <td>118.750000</td>\n",
       "    </tr>\n",
       "  </tbody>\n",
       "</table>\n",
       "</div>"
      ],
      "text/plain": [
       "       SeniorCitizen       tenure  MonthlyCharges\n",
       "count    7043.000000  7043.000000     7043.000000\n",
       "mean        0.162147    32.371149       64.761692\n",
       "std         0.368612    24.559481       30.090047\n",
       "min         0.000000     0.000000       18.250000\n",
       "25%         0.000000     9.000000       35.500000\n",
       "50%         0.000000    29.000000       70.350000\n",
       "75%         0.000000    55.000000       89.850000\n",
       "max         1.000000    72.000000      118.750000"
      ]
     },
     "execution_count": 116,
     "metadata": {},
     "output_type": "execute_result"
    }
   ],
   "source": [
    "df.describe()"
   ]
  },
  {
   "cell_type": "code",
   "execution_count": 117,
   "id": "6c9e7833-b8ea-49e5-a840-d8b8ada8f34c",
   "metadata": {},
   "outputs": [
    {
     "data": {
      "text/plain": [
       "customerID          0\n",
       "gender              0\n",
       "SeniorCitizen       0\n",
       "Partner             0\n",
       "Dependents          0\n",
       "tenure              0\n",
       "PhoneService        0\n",
       "MultipleLines       0\n",
       "InternetService     0\n",
       "OnlineSecurity      0\n",
       "OnlineBackup        0\n",
       "DeviceProtection    0\n",
       "TechSupport         0\n",
       "StreamingTV         0\n",
       "StreamingMovies     0\n",
       "Contract            0\n",
       "PaperlessBilling    0\n",
       "PaymentMethod       0\n",
       "MonthlyCharges      0\n",
       "TotalCharges        0\n",
       "Churn               0\n",
       "dtype: int64"
      ]
     },
     "execution_count": 117,
     "metadata": {},
     "output_type": "execute_result"
    }
   ],
   "source": [
    "# Check for any missing values in the dataset\n",
    "df.isnull().sum()"
   ]
  },
  {
   "cell_type": "code",
   "execution_count": 118,
   "id": "5ed741be-82d3-4e76-9224-4464b63d3bbb",
   "metadata": {},
   "outputs": [
    {
     "data": {
      "text/plain": [
       "np.int64(0)"
      ]
     },
     "execution_count": 118,
     "metadata": {},
     "output_type": "execute_result"
    }
   ],
   "source": [
    "# Check for any duplicate values in the dataset\n",
    "df.duplicated().sum()"
   ]
  },
  {
   "cell_type": "markdown",
   "id": "aa91284f-cc49-4a96-84a7-637ad4554223",
   "metadata": {},
   "source": [
    "## Dataset Information\n",
    "\n",
    "The `.info()` function gives a concise summary of the DataFrame. It includes:\n",
    "\n",
    "- The number of entries (rows)\n",
    "- Column names and their data types\n",
    "- The number of non-null values in each column\n",
    "\n",
    "This helps identify which columns may need type conversion or have missing values.\n"
   ]
  },
  {
   "cell_type": "code",
   "execution_count": 120,
   "id": "ee5d511e-95ad-484e-b3f1-cf3614e5aba2",
   "metadata": {},
   "outputs": [
    {
     "name": "stdout",
     "output_type": "stream",
     "text": [
      "<class 'pandas.core.frame.DataFrame'>\n",
      "RangeIndex: 7043 entries, 0 to 7042\n",
      "Data columns (total 21 columns):\n",
      " #   Column            Non-Null Count  Dtype  \n",
      "---  ------            --------------  -----  \n",
      " 0   customerID        7043 non-null   object \n",
      " 1   gender            7043 non-null   object \n",
      " 2   SeniorCitizen     7043 non-null   int64  \n",
      " 3   Partner           7043 non-null   object \n",
      " 4   Dependents        7043 non-null   object \n",
      " 5   tenure            7043 non-null   int64  \n",
      " 6   PhoneService      7043 non-null   object \n",
      " 7   MultipleLines     7043 non-null   object \n",
      " 8   InternetService   7043 non-null   object \n",
      " 9   OnlineSecurity    7043 non-null   object \n",
      " 10  OnlineBackup      7043 non-null   object \n",
      " 11  DeviceProtection  7043 non-null   object \n",
      " 12  TechSupport       7043 non-null   object \n",
      " 13  StreamingTV       7043 non-null   object \n",
      " 14  StreamingMovies   7043 non-null   object \n",
      " 15  Contract          7043 non-null   object \n",
      " 16  PaperlessBilling  7043 non-null   object \n",
      " 17  PaymentMethod     7043 non-null   object \n",
      " 18  MonthlyCharges    7043 non-null   float64\n",
      " 19  TotalCharges      7043 non-null   object \n",
      " 20  Churn             7043 non-null   object \n",
      "dtypes: float64(1), int64(2), object(18)\n",
      "memory usage: 1.1+ MB\n"
     ]
    }
   ],
   "source": [
    "df.info()"
   ]
  },
  {
   "cell_type": "code",
   "execution_count": 121,
   "id": "fcd2c746-c53b-472c-bb0f-387e30d93262",
   "metadata": {},
   "outputs": [
    {
     "data": {
      "text/plain": [
       "Index(['customerID', 'gender', 'SeniorCitizen', 'Partner', 'Dependents',\n",
       "       'tenure', 'PhoneService', 'MultipleLines', 'InternetService',\n",
       "       'OnlineSecurity', 'OnlineBackup', 'DeviceProtection', 'TechSupport',\n",
       "       'StreamingTV', 'StreamingMovies', 'Contract', 'PaperlessBilling',\n",
       "       'PaymentMethod', 'MonthlyCharges', 'TotalCharges', 'Churn'],\n",
       "      dtype='object')"
      ]
     },
     "execution_count": 121,
     "metadata": {},
     "output_type": "execute_result"
    }
   ],
   "source": [
    "# Display all column names in the dataset\n",
    "df.columns"
   ]
  },
  {
   "cell_type": "markdown",
   "id": "f9a4d014-8dae-4364-819a-d8883f164c02",
   "metadata": {},
   "source": [
    "## Check for Imbalance"
   ]
  },
  {
   "cell_type": "code",
   "execution_count": 123,
   "id": "b8f90f9d-dcd2-49b2-acc7-ae300a3deadd",
   "metadata": {},
   "outputs": [
    {
     "data": {
      "text/plain": [
       "Churn\n",
       "No     5174\n",
       "Yes    1869\n",
       "Name: count, dtype: int64"
      ]
     },
     "execution_count": 123,
     "metadata": {},
     "output_type": "execute_result"
    }
   ],
   "source": [
    "df['Churn'].value_counts()"
   ]
  },
  {
   "cell_type": "markdown",
   "id": "15fc09b3-b5e8-483a-be09-54cad9a2dd99",
   "metadata": {},
   "source": [
    "## Visualizing Churn Distribution by Features\n",
    "\n",
    "To gain insights into customer behavior, we visualize how churn is distributed across various features such as:\n",
    "\n",
    "- Gender\n",
    "- Contract type\n",
    "- Internet service\n",
    "- Senior citizen status\n",
    "- Partnership status\n",
    "- Dependents\n",
    "- Tech support usage\n",
    "\n",
    "These visualizations help us identify patterns or groups more likely to churn, which is valuable for targeted business strategies.\n"
   ]
  },
  {
   "cell_type": "code",
   "execution_count": 125,
   "id": "f8fece4b-05b2-4de6-b246-9a45f5964e41",
   "metadata": {},
   "outputs": [
    {
     "ename": "NameError",
     "evalue": "name 'savefig' is not defined",
     "output_type": "error",
     "traceback": [
      "\u001b[1;31m---------------------------------------------------------------------------\u001b[0m",
      "\u001b[1;31mNameError\u001b[0m                                 Traceback (most recent call last)",
      "Cell \u001b[1;32mIn[125], line 15\u001b[0m\n\u001b[0;32m     11\u001b[0m     plt\u001b[38;5;241m.\u001b[39mshow()\n\u001b[0;32m     14\u001b[0m \u001b[38;5;66;03m# Call the function for selected features to explore their relationship with churn\u001b[39;00m\n\u001b[1;32m---> 15\u001b[0m \u001b[43mplot_churn_by\u001b[49m\u001b[43m(\u001b[49m\u001b[38;5;124;43m'\u001b[39;49m\u001b[38;5;124;43mgender\u001b[39;49m\u001b[38;5;124;43m'\u001b[39;49m\u001b[43m)\u001b[49m\n\u001b[0;32m     16\u001b[0m plot_churn_by(\u001b[38;5;124m'\u001b[39m\u001b[38;5;124mContract\u001b[39m\u001b[38;5;124m'\u001b[39m)\n\u001b[0;32m     17\u001b[0m plot_churn_by(\u001b[38;5;124m'\u001b[39m\u001b[38;5;124mInternetService\u001b[39m\u001b[38;5;124m'\u001b[39m)\n",
      "Cell \u001b[1;32mIn[125], line 9\u001b[0m, in \u001b[0;36mplot_churn_by\u001b[1;34m(feature)\u001b[0m\n\u001b[0;32m      7\u001b[0m \u001b[38;5;66;03m# Save the plot inside the function\u001b[39;00m\n\u001b[0;32m      8\u001b[0m filename \u001b[38;5;241m=\u001b[39m \u001b[38;5;124mf\u001b[39m\u001b[38;5;124m\"\u001b[39m\u001b[38;5;124mchurn_by_\u001b[39m\u001b[38;5;132;01m{\u001b[39;00mfeature\u001b[38;5;241m.\u001b[39mlower()\u001b[38;5;132;01m}\u001b[39;00m\u001b[38;5;124m.png\u001b[39m\u001b[38;5;124m\"\u001b[39m\n\u001b[1;32m----> 9\u001b[0m \u001b[43msavefig\u001b[49m(filename, dpi\u001b[38;5;241m=\u001b[39m\u001b[38;5;241m300\u001b[39m, bbox_inches\u001b[38;5;241m=\u001b[39m\u001b[38;5;124m'\u001b[39m\u001b[38;5;124mtight\u001b[39m\u001b[38;5;124m'\u001b[39m)  \u001b[38;5;66;03m# Save the figure as PNGplt.\u001b[39;00m\n\u001b[0;32m     10\u001b[0m plt\u001b[38;5;241m.\u001b[39mshow()\n\u001b[0;32m     11\u001b[0m plt\u001b[38;5;241m.\u001b[39mshow()\n",
      "\u001b[1;31mNameError\u001b[0m: name 'savefig' is not defined"
     ]
    },
    {
     "data": {
      "image/png": "[encoded data removed]",
      "text/plain": [
       "<Figure size 500x300 with 1 Axes>"
      ]
     },
     "metadata": {},
     "output_type": "display_data"
    }
   ],
   "source": [
    "# Define a function to visualize the churn count for a given categorical feature\n",
    "def plot_churn_by(feature):\n",
    "    plt.figure(figsize=(5, 3))  # Set figure size\n",
    "    sns.countplot(data=df, x=feature, hue='Churn')  # Create a count plot with 'Churn' as hue\n",
    "    plt.title(f'Churn by {feature}')  # Add title to the plot\n",
    "    plt.tight_layout()\n",
    "    # Save the plot inside the function\n",
    "    filename = f\"churn_by_{feature.lower()}.png\"\n",
    "    savefig(filename, dpi=300, bbox_inches='tight')  # Save the figure as PNGplt.\n",
    "    plt.show()\n",
    "    plt.show()\n",
    "\n",
    "\n",
    "# Call the function for selected features to explore their relationship with churn\n",
    "plot_churn_by('gender')\n",
    "plot_churn_by('Contract')\n",
    "plot_churn_by('InternetService')\n",
    "plot_churn_by('SeniorCitizen')\n",
    "plot_churn_by('Partner')\n",
    "plot_churn_by('Dependents')\n",
    "plot_churn_by('TechSupport')\n",
    "\n",
    "\n",
    "\n"
   ]
  },
  {
   "cell_type": "markdown",
   "id": "67792e27-a24b-4a12-9011-ed369aa43b63",
   "metadata": {},
   "source": [
    "## Overall Churn Distribution\n",
    "\n",
    "Before diving into feature-specific analysis, it's helpful to look at the general distribution of the target variable — **Churn**.\n",
    "\n",
    "This chart shows how many customers have churned versus those who have not. It provides a sense of data balance, which is important when building machine learning models.\n"
   ]
  },
  {
   "cell_type": "code",
   "execution_count": null,
   "id": "0cfb390d-2bde-4e7e-84a9-3e82e6a50c6a",
   "metadata": {},
   "outputs": [],
   "source": [
    "sns.countplot(data=df, x='Churn')\n",
    "plt.title(\"Churn vs Not Churned\")\n",
    "plt.xlabel(\"Churn\")\n",
    "plt.ylabel(\"Count\")\n",
    "plt.savefig(\"churnedrate.png\", dpi=300, bbox_inches='tight')  # Save the figure as PNGplt.\n",
    "plt.show()\n"
   ]
  },
  {
   "cell_type": "markdown",
   "id": "7d66c6ed-456b-43c8-959d-f885aea6a773",
   "metadata": {},
   "source": [
    " ## Churn Analysis by Internet Service Type\n",
    " This helps with feature importance and targeted retention strategies"
   ]
  },
  {
   "cell_type": "code",
   "execution_count": null,
   "id": "1d4be223-c340-4c77-8130-6d6ff3f5ab9a",
   "metadata": {},
   "outputs": [],
   "source": [
    "sns.countplot(data=df, x='InternetService', hue='Churn')\n",
    "plt.title(\"Churn by Internet Service Type\")\n",
    "plt.ylabel(\"Customer Count\")\n",
    "plt.savefig(\"churnvsinternet.png\", dpi=300, bbox_inches='tight')\n",
    "plt.show()\n"
   ]
  },
  {
   "cell_type": "markdown",
   "id": "64e4da00-6502-425f-924c-0f964a9e6843",
   "metadata": {},
   "source": [
    "## Monthly Charges and Churn\n",
    "helps asses the impact of pricing on churning"
   ]
  },
  {
   "cell_type": "code",
   "execution_count": null,
   "id": "46941fd2-5c76-4ae2-96ad-3ff6147b5c3d",
   "metadata": {
    "scrolled": true
   },
   "outputs": [],
   "source": [
    "sns.boxplot(data=df, x='Churn', y='MonthlyCharges')\n",
    "plt.title(\"Monthly Charges and Churn\")\n",
    "plt.savefig(\"churnvsmonthlycharge.png\", dpi=300, bbox_inches='tight')\n",
    "plt.show()\n",
    "\n"
   ]
  },
  {
   "cell_type": "markdown",
   "id": "2754d410-7716-49b4-881c-5bf9a6655539",
   "metadata": {},
   "source": [
    "## correration betweeen features"
   ]
  },
  {
   "cell_type": "code",
   "execution_count": null,
   "id": "f9d2e67b-5534-4cd2-b2be-b14aa116a266",
   "metadata": {},
   "outputs": [],
   "source": [
    "plt.figure(figsize=(10, 6))\n",
    "sns.heatmap(df.corr(numeric_only=True), annot=True, cmap='coolwarm')\n",
    "plt.title(\"Feature Correlation Heatmap\")\n",
    "plt.savefig(\"correration.png\", dpi=300, bbox_inches='tight')\n",
    "plt.show()\n"
   ]
  },
  {
   "cell_type": "markdown",
   "id": "6d9afd30-f66f-4d96-a18e-364e4d8ca8f7",
   "metadata": {},
   "source": [
    "## Tenure Distribution by Churn\n",
    " short-tenure customers are churning, focus on onboarding and early experience improvements."
   ]
  },
  {
   "cell_type": "code",
   "execution_count": null,
   "id": "d9633d79-e9cd-4b75-8879-33116404d615",
   "metadata": {},
   "outputs": [],
   "source": [
    "plt.figure(figsize=(8, 5))\n",
    "sns.histplot(data=df, x='tenure', hue='Churn', bins=30, kde=True)\n",
    "plt.title(\"Tenure Distribution by Churn\")\n",
    "plt.xlabel(\"Tenure (months)\")\n",
    "plt.ylabel(\"Number of Customers\")\n",
    "plt.savefig(\"teurevstenure.png\", dpi=300, bbox_inches='tight')\n",
    "plt.show()\n"
   ]
  },
  {
   "cell_type": "code",
   "execution_count": null,
   "id": "3d8e7717-9814-44d7-8627-1090e5719cc9",
   "metadata": {},
   "outputs": [],
   "source": [
    "binary_cols = [\n",
    "    'gender',         # Male / Female\n",
    "    'Partner',        # Yes / No\n",
    "    'Dependents',     # Yes / No\n",
    "    'PhoneService',   # Yes / No\n",
    "    'PaperlessBilling', # Yes / No\n",
    "    'Churn'           # Yes / No (your target variable!)\n",
    "]"
   ]
  },
  {
   "cell_type": "code",
   "execution_count": null,
   "id": "9abf768b-3290-441a-b035-80302e5ccf9b",
   "metadata": {},
   "outputs": [],
   "source": [
    "multi_cols = [\n",
    "    'StreamingMovies',\n",
    "    'StreamingTV',\n",
    "    'TechSupport',\n",
    "    'DeviceProtection',\n",
    "    'OnlineSecurity'\n",
    "]\n"
   ]
  },
  {
   "cell_type": "markdown",
   "id": "0a6e2d6a-426c-4f99-99d4-7b34db896493",
   "metadata": {},
   "source": [
    "## Encoding Categorical Features\n",
    "In machine learning, categorical features need to be transformed into numerical formats that algorithms can understand. For this, we use two techniques:\n",
    "\n",
    "Label Encoding: This technique is used for binary categorical columns (with only two possible values, like \"Yes/No\"). It converts categories into numbers. For instance, \"Yes\" becomes 1 and \"No\" becomes 0.\n",
    "\n",
    "One-Hot Encoding: This is used for columns that contain more than two categories. It creates new binary columns for each possible category, marking a 1 for the presence of that category and a 0 for the absence."
   ]
  },
  {
   "cell_type": "code",
   "execution_count": null,
   "id": "a69f5ab5-dc03-4fdc-9787-8bb224fec2ed",
   "metadata": {},
   "outputs": [],
   "source": [
    "# Label encode binary columns\n",
    "le = LabelEncoder()\n",
    "for col in binary_cols:\n",
    "    df[col] = le.fit_transform(df[col])\n",
    "    \n",
    "# One-hot encode multi-category columns\n",
    "df = pd.get_dummies(df, columns=multi_cols, drop_first=True)\n"
   ]
  },
  {
   "cell_type": "code",
   "execution_count": null,
   "id": "734bf594-fea4-44b3-999b-1c64602fcbbd",
   "metadata": {},
   "outputs": [],
   "source": [
    "df.columns"
   ]
  },
  {
   "cell_type": "markdown",
   "id": "6f4bd53c-e985-453f-8842-8daaaeae3e0a",
   "metadata": {},
   "source": [
    "## Correlation Heatmap\n",
    "Understanding the relationships between features is crucial in machine learning, as it helps identify which variables are highly correlated and might provide redundant information. A correlation heatmap allows us to visualize these relationships.\n",
    "\n",
    "In this step, we calculate the correlation matrix for the numeric columns of the dataset and visualize it using a heatmap. The correlation matrix gives us values ranging from -1 to 1:\n",
    "\n",
    "A correlation of 1 means a perfect positive relationship.\n",
    "\n",
    "A correlation of -1 indicates a perfect negative relationship.\n",
    "\n",
    "A correlation of 0 means no linear relationship"
   ]
  },
  {
   "cell_type": "code",
   "execution_count": null,
   "id": "25e5980e-fbf5-48cd-9273-9dd3d0863925",
   "metadata": {},
   "outputs": [],
   "source": [
    "# Filter only numeric columns and calculate the correlation matrix\n",
    "correlation_matrix = df.select_dtypes(include='number').corr()\n",
    "\n",
    "# Plot the correlation matrix as a heatmap\n",
    "\n",
    "sns.heatmap(correlation_matrix, annot=True, cmap='coolwarm', fmt='.2f')\n",
    "plt.title(\"Correlation Heatmap\")\n",
    "plt.savefig(\"corr.png\", dpi=300, bbox_inches='tight')\n",
    "plt.show()\n",
    "\n"
   ]
  },
  {
   "cell_type": "markdown",
   "id": "78161d4b-71b3-45d9-9d7a-db68675ccb35",
   "metadata": {},
   "source": [
    "## Train-Test Split\n",
    "Before training a machine learning model, it's essential to split the data into training and testing sets. The training set is used to train the model, while the testing set is used to evaluate its performance on unseen data. A typical split ratio is 80% for training and 20% for testing.\n",
    "\n",
    "In this case, we'll be using 'Churn' as the target variable and the rest of the columns as features."
   ]
  },
  {
   "cell_type": "code",
   "execution_count": null,
   "id": "629c1ad7-1a8b-41ba-a564-8a186172c9dd",
   "metadata": {},
   "outputs": [],
   "source": [
    "# Assume 'Churn' is the target variable, and the rest are features\n",
    "X = df.drop(columns=['Churn','customerID'])\n",
    "y = df['Churn']\n",
    "\n",
    "# Train-test split (80% training, 20% test)\n",
    "X_train, X_test, y_train, y_test = train_test_split(X, y, test_size=0.2, random_state=42)\n"
   ]
  },
  {
   "cell_type": "markdown",
   "id": "9623ba48-286e-4f40-9e4f-7ec032abb51f",
   "metadata": {},
   "source": [
    "## Training the Random Forest Classifier\n",
    "Now that the data is split into training and testing sets, we can proceed to train a machine learning model. We'll use the Random Forest Classifier, a powerful ensemble learning algorithm, to predict customer churn.\n",
    "\n",
    "The Random Forest algorithm builds multiple decision trees during training and merges them together to improve the accuracy and prevent overfitting."
   ]
  },
  {
   "cell_type": "code",
   "execution_count": null,
   "id": "86a29ef3-4c0a-402c-bdc0-16d6b3311334",
   "metadata": {},
   "outputs": [],
   "source": [
    "# Scale the features (Logistic Regression can perform better with normalized data)\n",
    "scaler = StandardScaler()\n",
    "X_train_scaled = scaler.fit_transform(X_train)\n",
    "X_test_scaled = scaler.transform(X_test)\n"
   ]
  },
  {
   "cell_type": "code",
   "execution_count": null,
   "id": "a9d5b872-7284-43cc-bce1-15bbac7e525d",
   "metadata": {},
   "outputs": [],
   "source": [
    "# Initialize the Logistic Regression model\n",
    "log_reg_model = LogisticRegression(random_state=42, max_iter=1000)\n",
    "\n",
    "# Train the model\n",
    "log_reg_model.fit(X_train_scaled, y_train)\n"
   ]
  },
  {
   "cell_type": "code",
   "execution_count": null,
   "id": "096ce222-a895-4b46-8f7f-4cff0be01b50",
   "metadata": {},
   "outputs": [],
   "source": [
    "# Make predictions on the test set\n",
    "y_pred = log_reg_model.predict(X_test_scaled)"
   ]
  },
  {
   "cell_type": "code",
   "execution_count": null,
   "id": "b6062065-2ed8-4a64-937a-510c17f0152c",
   "metadata": {},
   "outputs": [],
   "source": [
    "# Evaluate the model\n",
    "accuracy = accuracy_score(y_test, y_pred)\n",
    "conf_matrix = confusion_matrix(y_test, y_pred)\n",
    "class_report = classification_report(y_test, y_pred)\n"
   ]
  },
  {
   "cell_type": "code",
   "execution_count": null,
   "id": "fc27ad9d-b528-4ac9-89b9-cec15aa39375",
   "metadata": {},
   "outputs": [],
   "source": [
    "# Print results\n",
    "print(f\"Accuracy: {accuracy:.4f}\")\n",
    "print(\"Confusion Matrix:\")\n",
    "print(conf_matrix)\n",
    "print(\"Classification Report:\")\n",
    "print(class_report)\n"
   ]
  },
  {
   "cell_type": "code",
   "execution_count": null,
   "id": "58424a82-d204-432e-800b-38b78fc8662e",
   "metadata": {},
   "outputs": [],
   "source": []
  }
 ],
 "metadata": {
  "kernelspec": {
   "display_name": "Python 3 (ipykernel)",
   "language": "python",
   "name": "python3"
  },
  "language_info": {
   "codemirror_mode": {
    "name": "ipython",
    "version": 3
   },
   "file_extension": ".py",
   "mimetype": "text/x-python",
   "name": "python",
   "nbconvert_exporter": "python",
   "pygments_lexer": "ipython3",
   "version": "3.12.3"
  }
 },
 "nbformat": 4,
 "nbformat_minor": 5
}
